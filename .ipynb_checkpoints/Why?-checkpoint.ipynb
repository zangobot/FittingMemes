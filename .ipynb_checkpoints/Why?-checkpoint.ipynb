{
 "cells": [
  {
   "cell_type": "markdown",
   "metadata": {},
   "source": [
    "# Let's run some experiments!\n",
    "\n",
    "Here there are some nice plot of the results I've achieved with this **INCREDIBLY** dumb classifier.\n",
    "\n",
    "You are wondering if I'm extracting features...?\n",
    "The answer is NOT AT ALL. The images are quite all the same except from the caption.\n",
    "\n",
    "So there are surely some pixels which can be considered important somehow.\n",
    "\n",
    "How the weights are distributed?"
   ]
  },
  {
   "cell_type": "code",
   "execution_count": 1,
   "metadata": {},
   "outputs": [
    {
     "name": "stderr",
     "output_type": "stream",
     "text": [
      "/home/luca/anaconda3/lib/python3.6/site-packages/skimage/transform/_warps.py:84: UserWarning: The default mode, 'constant', will be changed to 'reflect' in skimage 0.15.\n",
      "  warn(\"The default mode, 'constant', will be changed to 'reflect' in \"\n"
     ]
    },
    {
     "name": "stdout",
     "output_type": "stream",
     "text": [
      "(<class 'OSError'>, OSError(\"cannot identify image file <_io.BufferedReader name='data/disaster-girl.jpg51'>\",), <traceback object at 0x7f8115de2648>)\n",
      "(<class 'OSError'>, OSError(\"cannot identify image file <_io.BufferedReader name='data/captain-picard.jpg68'>\",), <traceback object at 0x7f8115cf3848>)\n",
      "(<class 'OSError'>, OSError(\"cannot identify image file <_io.BufferedReader name='data/overly-attached-girlfriend.jpg127'>\",), <traceback object at 0x7f8115c63dc8>)\n",
      "(<class 'OSError'>, OSError(\"cannot identify image file <_io.BufferedReader name='data/all-the-things.jpg23'>\",), <traceback object at 0x7f8115a07dc8>)\n",
      "(<class 'OSError'>, OSError(\"cannot identify image file <_io.BufferedReader name='data/internet-husband.jpg100'>\",), <traceback object at 0x7f811590e948>)\n",
      "(<class 'OSError'>, OSError(\"cannot identify image file <_io.BufferedReader name='data/disaster-girl.jpg16'>\",), <traceback object at 0x7f8115801cc8>)\n",
      "(<class 'OSError'>, OSError(\"cannot identify image file <_io.BufferedReader name='data/scumbag-steve.jpg61'>\",), <traceback object at 0x7f8115782648>)\n",
      "The shape of the problem is (1658, 40000)\n",
      "And the error is ONLY 0.23 %!\n"
     ]
    },
    {
     "ename": "TypeError",
     "evalue": "slice indices must be integers or None or have an __index__ method",
     "output_type": "error",
     "traceback": [
      "\u001b[0;31m---------------------------------------------------------------------------\u001b[0m",
      "\u001b[0;31mTypeError\u001b[0m                                 Traceback (most recent call last)",
      "\u001b[0;32m~/Documents/University/Experiments/Memes/very_dumb_classifier.py\u001b[0m in \u001b[0;36m<module>\u001b[0;34m()\u001b[0m\n\u001b[1;32m     17\u001b[0m \u001b[0mprint\u001b[0m\u001b[0;34m(\u001b[0m\u001b[0;34m'And the error is ONLY {0:.2f} %!'\u001b[0m\u001b[0;34m.\u001b[0m\u001b[0mformat\u001b[0m\u001b[0;34m(\u001b[0m\u001b[0merror\u001b[0m\u001b[0;34m)\u001b[0m\u001b[0;34m)\u001b[0m\u001b[0;34m\u001b[0m\u001b[0m\n\u001b[1;32m     18\u001b[0m \u001b[0;34m\u001b[0m\u001b[0m\n\u001b[0;32m---> 19\u001b[0;31m \u001b[0mplt\u001b[0m\u001b[0;34m.\u001b[0m\u001b[0msemilogy\u001b[0m\u001b[0;34m(\u001b[0m\u001b[0mnp\u001b[0m\u001b[0;34m.\u001b[0m\u001b[0msort\u001b[0m\u001b[0;34m(\u001b[0m\u001b[0mforest\u001b[0m\u001b[0;34m.\u001b[0m\u001b[0mfeature_importances_\u001b[0m\u001b[0;34m)\u001b[0m\u001b[0;34m[\u001b[0m\u001b[0;34m:\u001b[0m\u001b[0mnp\u001b[0m\u001b[0;34m.\u001b[0m\u001b[0msqrt\u001b[0m\u001b[0;34m(\u001b[0m\u001b[0mlen\u001b[0m\u001b[0;34m(\u001b[0m\u001b[0mX_train\u001b[0m\u001b[0;34m[\u001b[0m\u001b[0;36m0\u001b[0m\u001b[0;34m]\u001b[0m\u001b[0;34m)\u001b[0m\u001b[0;34m)\u001b[0m\u001b[0;34m]\u001b[0m\u001b[0;34m[\u001b[0m\u001b[0;34m:\u001b[0m\u001b[0;34m:\u001b[0m\u001b[0;34m-\u001b[0m\u001b[0;36m1\u001b[0m\u001b[0;34m]\u001b[0m\u001b[0;34m)\u001b[0m\u001b[0;34m\u001b[0m\u001b[0m\n\u001b[0m\u001b[1;32m     20\u001b[0m \u001b[0mplt\u001b[0m\u001b[0;34m.\u001b[0m\u001b[0mtitle\u001b[0m\u001b[0;34m(\u001b[0m\u001b[0;34m'Importance of features'\u001b[0m\u001b[0;34m)\u001b[0m\u001b[0;34m\u001b[0m\u001b[0m\n\u001b[1;32m     21\u001b[0m \u001b[0mplt\u001b[0m\u001b[0;34m.\u001b[0m\u001b[0mxlabel\u001b[0m\u001b[0;34m(\u001b[0m\u001b[0;34m'Ordered features'\u001b[0m\u001b[0;34m)\u001b[0m\u001b[0;34m\u001b[0m\u001b[0m\n",
      "\u001b[0;31mTypeError\u001b[0m: slice indices must be integers or None or have an __index__ method"
     ]
    }
   ],
   "source": [
    "from data_generator import  train_test_split, generate_mapping, create_dataset\n",
    "from sklearn.cluster import KMeans\n",
    "from sklearn.ensemble import RandomForestClassifier\n",
    "import numpy as np\n",
    "import matplotlib.pyplot as plt\n",
    "\n",
    "X_train, y_train, X_tst, y_tst = train_test_split(test_size=0.7, subsample=1, persistance=False)\n",
    "print(\"The shape of the problem is {}\".format(X_train.shape))\n",
    "\n",
    "forest = RandomForestClassifier(n_estimators=15)\n",
    "forest.fit(X_train, y_train)\n",
    "\n",
    "y_pred = forest.predict(X_tst)\n",
    "\n",
    "error =  100*np.sum( y_pred != y_tst ) / len(y_tst)\n",
    "\n",
    "print('And the error is ONLY {0:.2f} %!'.format(error))\n",
    "result = np.sort(forest.feature_importances_)\n",
    "result = result[::-1]\n",
    "plt.semilogy(result[:300])\n",
    "plt.title('Importance of features')\n",
    "plt.xlabel('Ordered features')\n",
    "plt.ylabel('Importance')\n"
   ]
  },
  {
   "cell_type": "code",
   "execution_count": null,
   "metadata": {},
   "outputs": [],
   "source": []
  }
 ],
 "metadata": {
  "kernelspec": {
   "display_name": "Python 3",
   "language": "python",
   "name": "python3"
  },
  "language_info": {
   "codemirror_mode": {
    "name": "ipython",
    "version": 3
   },
   "file_extension": ".py",
   "mimetype": "text/x-python",
   "name": "python",
   "nbconvert_exporter": "python",
   "pygments_lexer": "ipython3",
   "version": "3.6.4"
  }
 },
 "nbformat": 4,
 "nbformat_minor": 2
}
