{
 "cells": [
  {
   "cell_type": "markdown",
   "metadata": {},
   "source": [
    "# Let's run some experiments!\n",
    "\n",
    "Here there are some nice plot of the results I've achieved with this **INCREDIBLY** dumb classifier.\n",
    "\n",
    "You are wondering if I'm extracting features...?\n",
    "The answer is **NOT AT ALL**. The images are quite all the same except from the caption.\n",
    "So there are surely some pixels which can be considered important somehow.\n",
    "\n",
    "For more info about what Random Forest really is, just got on [Wikipedia](https://en.wikipedia.org/wiki/Random_forest).\n",
    "\n",
    "How the weights are distributed?"
   ]
  },
  {
   "cell_type": "code",
   "execution_count": 3,
   "metadata": {},
   "outputs": [
    {
     "name": "stderr",
     "output_type": "stream",
     "text": [
      "/home/luca/anaconda3/lib/python3.6/site-packages/skimage/transform/_warps.py:84: UserWarning: The default mode, 'constant', will be changed to 'reflect' in skimage 0.15.\n",
      "  warn(\"The default mode, 'constant', will be changed to 'reflect' in \"\n"
     ]
    },
    {
     "name": "stdout",
     "output_type": "stream",
     "text": [
      "The shape of the problem is (1658, 40000)\n",
      "And the error is ONLY 0.39 %!\n"
     ]
    },
    {
     "data": {
      "text/plain": [
       "Text(0,0.5,'Importance')"
      ]
     },
     "execution_count": 3,
     "metadata": {},
     "output_type": "execute_result"
    },
    {
     "data": {
      "image/png": "[encoded data removed]",
      "text/plain": [
       "<matplotlib.figure.Figure at 0x7f81158d0da0>"
      ]
     },
     "metadata": {},
     "output_type": "display_data"
    }
   ],
   "source": [
    "from data_generator import  train_test_split, generate_mapping, create_dataset\n",
    "from sklearn.cluster import KMeans\n",
    "from sklearn.ensemble import RandomForestClassifier\n",
    "import numpy as np\n",
    "import matplotlib.pyplot as plt\n",
    "\n",
    "X_train, y_train, X_tst, y_tst = train_test_split(test_size=0.7, subsample=1, persistance=False)\n",
    "print(\"The shape of the problem is {}\".format(X_train.shape))\n",
    "\n",
    "forest = RandomForestClassifier(n_estimators=15)\n",
    "forest.fit(X_train, y_train)\n",
    "\n",
    "y_pred = forest.predict(X_tst)\n",
    "\n",
    "error =  100*np.sum( y_pred != y_tst ) / len(y_tst)\n",
    "\n",
    "print('And the error is ONLY {0:.2f} %!'.format(error))\n",
    "result = np.sort(forest.feature_importances_)\n",
    "result = result[::-1]\n",
    "plt.semilogy(result[:300])\n",
    "plt.title('Importance of features')\n",
    "plt.xlabel('Ordered features')\n",
    "plt.ylabel('Importance')\n"
   ]
  },
  {
   "cell_type": "markdown",
   "metadata": {},
   "source": [
    "As you can barely see from the plot, there are some important features... but the order of magnitude is the same.\n",
    "That classification took into account only a very very small portion of the dataset, but it's not so relevant. \n",
    "\n",
    "This data are just *well done* for the point of view of classification.\n",
    "They have large portions of significant information, there are no translations or rotations.\n",
    "\n",
    "**This is way it's very very simple to classify them!**\n",
    "\n",
    "There is no need of Deep Learning at all (for this dataset)."
   ]
  },
  {
   "cell_type": "code",
   "execution_count": null,
   "metadata": {},
   "outputs": [],
   "source": []
  }
 ],
 "metadata": {
  "kernelspec": {
   "display_name": "Python 3",
   "language": "python",
   "name": "python3"
  },
  "language_info": {
   "codemirror_mode": {
    "name": "ipython",
    "version": 3
   },
   "file_extension": ".py",
   "mimetype": "text/x-python",
   "name": "python",
   "nbconvert_exporter": "python",
   "pygments_lexer": "ipython3",
   "version": "3.6.4"
  }
 },
 "nbformat": 4,
 "nbformat_minor": 2
}
